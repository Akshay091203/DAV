{
  "nbformat": 4,
  "nbformat_minor": 0,
  "metadata": {
    "colab": {
      "provenance": [],
      "authorship_tag": "ABX9TyOyGebK/leAVwodM6DKlQT8",
      "include_colab_link": true
    },
    "kernelspec": {
      "name": "python3",
      "display_name": "Python 3"
    },
    "language_info": {
      "name": "python"
    }
  },
  "cells": [
    {
      "cell_type": "markdown",
      "metadata": {
        "id": "view-in-github",
        "colab_type": "text"
      },
      "source": [
        "<a href=\"https://colab.research.google.com/github/Akshay091203/DAV/blob/main/DAV_9%2C10.ipynb\" target=\"_parent\"><img src=\"https://colab.research.google.com/assets/colab-badge.svg\" alt=\"Open In Colab\"/></a>"
      ]
    },
    {
      "cell_type": "code",
      "execution_count": 8,
      "metadata": {
        "colab": {
          "resources": {
            "http://localhost:8080/styles.css": {
              "data": "CjwhRE9DVFlQRSBodG1sPgo8aHRtbCBsYW5nPWVuPgogIDxtZXRhIGNoYXJzZXQ9dXRmLTg+CiAgPG1ldGEgbmFtZT12aWV3cG9ydCBjb250ZW50PSJpbml0aWFsLXNjYWxlPTEsIG1pbmltdW0tc2NhbGU9MSwgd2lkdGg9ZGV2aWNlLXdpZHRoIj4KICA8dGl0bGU+RXJyb3IgNDA0IChOb3QgRm91bmQpISExPC90aXRsZT4KICA8c3R5bGU+CiAgICAqe21hcmdpbjowO3BhZGRpbmc6MH1odG1sLGNvZGV7Zm9udDoxNXB4LzIycHggYXJpYWwsc2Fucy1zZXJpZn1odG1se2JhY2tncm91bmQ6I2ZmZjtjb2xvcjojMjIyO3BhZGRpbmc6MTVweH1ib2R5e21hcmdpbjo3JSBhdXRvIDA7bWF4LXdpZHRoOjM5MHB4O21pbi1oZWlnaHQ6MTgwcHg7cGFkZGluZzozMHB4IDAgMTVweH0qID4gYm9keXtiYWNrZ3JvdW5kOnVybCgvL3d3dy5nb29nbGUuY29tL2ltYWdlcy9lcnJvcnMvcm9ib3QucG5nKSAxMDAlIDVweCBuby1yZXBlYXQ7cGFkZGluZy1yaWdodDoyMDVweH1we21hcmdpbjoxMXB4IDAgMjJweDtvdmVyZmxvdzpoaWRkZW59aW5ze2NvbG9yOiM3Nzc7dGV4dC1kZWNvcmF0aW9uOm5vbmV9YSBpbWd7Ym9yZGVyOjB9QG1lZGlhIHNjcmVlbiBhbmQgKG1heC13aWR0aDo3NzJweCl7Ym9keXtiYWNrZ3JvdW5kOm5vbmU7bWFyZ2luLXRvcDowO21heC13aWR0aDpub25lO3BhZGRpbmctcmlnaHQ6MH19I2xvZ297YmFja2dyb3VuZDp1cmwoLy93d3cuZ29vZ2xlLmNvbS9pbWFnZXMvbG9nb3MvZXJyb3JwYWdlL2Vycm9yX2xvZ28tMTUweDU0LnBuZykgbm8tcmVwZWF0O21hcmdpbi1sZWZ0Oi01cHh9QG1lZGlhIG9ubHkgc2NyZWVuIGFuZCAobWluLXJlc29sdXRpb246MTkyZHBpKXsjbG9nb3tiYWNrZ3JvdW5kOnVybCgvL3d3dy5nb29nbGUuY29tL2ltYWdlcy9sb2dvcy9lcnJvcnBhZ2UvZXJyb3JfbG9nby0xNTB4NTQtMngucG5nKSBuby1yZXBlYXQgMCUgMCUvMTAwJSAxMDAlOy1tb3otYm9yZGVyLWltYWdlOnVybCgvL3d3dy5nb29nbGUuY29tL2ltYWdlcy9sb2dvcy9lcnJvcnBhZ2UvZXJyb3JfbG9nby0xNTB4NTQtMngucG5nKSAwfX1AbWVkaWEgb25seSBzY3JlZW4gYW5kICgtd2Via2l0LW1pbi1kZXZpY2UtcGl4ZWwtcmF0aW86Mil7I2xvZ297YmFja2dyb3VuZDp1cmwoLy93d3cuZ29vZ2xlLmNvbS9pbWFnZXMvbG9nb3MvZXJyb3JwYWdlL2Vycm9yX2xvZ28tMTUweDU0LTJ4LnBuZykgbm8tcmVwZWF0Oy13ZWJraXQtYmFja2dyb3VuZC1zaXplOjEwMCUgMTAwJX19I2xvZ297ZGlzcGxheTppbmxpbmUtYmxvY2s7aGVpZ2h0OjU0cHg7d2lkdGg6MTUwcHh9CiAgPC9zdHlsZT4KICA8YSBocmVmPS8vd3d3Lmdvb2dsZS5jb20vPjxzcGFuIGlkPWxvZ28gYXJpYS1sYWJlbD1Hb29nbGU+PC9zcGFuPjwvYT4KICA8cD48Yj40MDQuPC9iPiA8aW5zPlRoYXTigJlzIGFuIGVycm9yLjwvaW5zPgogIDxwPiAgPGlucz5UaGF04oCZcyBhbGwgd2Uga25vdy48L2lucz4K",
              "ok": false,
              "headers": [
                [
                  "content-length",
                  "1449"
                ],
                [
                  "content-type",
                  "text/html; charset=utf-8"
                ]
              ],
              "status": 404,
              "status_text": ""
            }
          },
          "base_uri": "https://localhost:8080/",
          "height": 596
        },
        "id": "p2o_XTJsiVTv",
        "outputId": "06a5958b-2637-4dd5-e264-2c1dbd9dde86"
      },
      "outputs": [
        {
          "output_type": "display_data",
          "data": {
            "text/plain": [
              "<IPython.core.display.HTML object>"
            ],
            "text/html": [
              "<!DOCTYPE html>\n",
              "<html>\n",
              "\n",
              "<head>\n",
              "    <title>D3.js World Map</title>\n",
              "    <link rel=\"stylesheet\" href=\"styles.css\">\n",
              "    <script src=\"https://d3js.org/d3.v5.min.js\"></script>\n",
              "    <script src=\"https://unpkg.com/topojson@3.0.2/dist/topojson.min.js\"></script>\n",
              "    <style>\n",
              "        body {\n",
              "            margin: 0px;\n",
              "            overflow: hidden;\n",
              "        }\n",
              "\n",
              "        .sphere {\n",
              "            fill: darkblue;\n",
              "        }\n",
              "\n",
              "        .country {\n",
              "            fill: lightgreen;\n",
              "            stroke: black;\n",
              "            stroke-opacity: 0.1;\n",
              "        }\n",
              "    </style>\n",
              "</head>\n",
              "\n",
              "<body>\n",
              "    <h1>World Map using D3.js</h1> <br>\n",
              "    <svg width=\"960\" height=\"500\"></svg>\n",
              "    <script>\n",
              "        const svg = d3.select('svg');\n",
              "        const projection = d3.geoNaturalEarth1();\n",
              "        const pathGenerator = d3.geoPath().projection(projection);\n",
              "\n",
              "        svg.append('path')\n",
              "            .attr('class', 'sphere')\n",
              "            .attr('d', pathGenerator({ type: 'Sphere' }));\n",
              "\n",
              "        d3.json('https://unpkg.com/world-atlas@1.1.4/world/110m.json')\n",
              "            .then(data => {\n",
              "                const countries = topojson.feature(data, data.objects.countries);\n",
              "                svg.selectAll('path').data(countries.features)\n",
              "                    .enter().append('path')\n",
              "                    .attr('class', 'country')\n",
              "                    .attr('d', pathGenerator);\n",
              "            });\n",
              "    </script>\n",
              "</body>\n",
              "\n",
              "</html>\n"
            ]
          },
          "metadata": {}
        }
      ],
      "source": [
        "%%html\n",
        "<!DOCTYPE html>\n",
        "<html>\n",
        "\n",
        "<head>\n",
        "    <title>D3.js World Map</title>\n",
        "    <link rel=\"stylesheet\" href=\"styles.css\">\n",
        "    <script src=\"https://d3js.org/d3.v5.min.js\"></script>\n",
        "    <script src=\"https://unpkg.com/topojson@3.0.2/dist/topojson.min.js\"></script>\n",
        "    <style>\n",
        "        body {\n",
        "            margin: 0px;\n",
        "            overflow: hidden;\n",
        "        }\n",
        "\n",
        "        .sphere {\n",
        "            fill: darkblue;\n",
        "        }\n",
        "\n",
        "        .country {\n",
        "            fill: lightgreen;\n",
        "            stroke: black;\n",
        "            stroke-opacity: 0.1;\n",
        "        }\n",
        "    </style>\n",
        "</head>\n",
        "\n",
        "<body>\n",
        "    <h1>World Map using D3.js</h1> <br>\n",
        "    <svg width=\"960\" height=\"500\"></svg>\n",
        "    <script>\n",
        "        const svg = d3.select('svg');\n",
        "        const projection = d3.geoNaturalEarth1();\n",
        "        const pathGenerator = d3.geoPath().projection(projection);\n",
        "\n",
        "        svg.append('path')\n",
        "            .attr('class', 'sphere')\n",
        "            .attr('d', pathGenerator({ type: 'Sphere' }));\n",
        "\n",
        "        d3.json('https://unpkg.com/world-atlas@1.1.4/world/110m.json')\n",
        "            .then(data => {\n",
        "                const countries = topojson.feature(data, data.objects.countries);\n",
        "                svg.selectAll('path').data(countries.features)\n",
        "                    .enter().append('path')\n",
        "                    .attr('class', 'country')\n",
        "                    .attr('d', pathGenerator);\n",
        "            });\n",
        "    </script>\n",
        "</body>\n",
        "\n",
        "</html>"
      ]
    },
    {
      "cell_type": "code",
      "source": [
        "%%html\n",
        "<!DOCTYPE html>\n",
        "<html lang=\"en\">\n",
        "<head>\n",
        "    <meta charset=\"UTF-8\">\n",
        "    <meta name=\"viewport\" content=\"width=device-width, initial-scale=1.0\">\n",
        "    <title>Data-Based D3.js Example</title>\n",
        "    <script src=\"https://d3js.org/d3.v5.min.js\"></script>\n",
        "</head>\n",
        "<body>\n",
        "\n",
        "    <h2>Event Handling in D3</h2>\n",
        "    <script>\n",
        "d3.select(\"#demoSelectOn\")\n",
        "    .select(\"#circleColorChangeD\")\n",
        "\t.on(\"mouseenter\", (d,i,n) => n[i].setAttribute(\"fill\", \"#000\"))\n",
        "    .on(\"mouseout\",   (d,i,n) => n[i].setAttribute(\"fill\", \"red\"));\n",
        "\n",
        "function randomColors() {\n",
        "        const letters = \"0123456789ABCDEF\";\n",
        "        let color = \"#\";\n",
        "        for (let i = 0; i < 6; i++) {\n",
        "          color += letters[Math.floor(Math.random() * 16)];\n",
        "        }\n",
        "        return color;\n",
        "      }\n",
        "</script>\n",
        "\n",
        "<svg id=\"demoSelectOn\" width=200px height=200px>\n",
        "    <circle id=\"circleColorChangeD\" cx=100 cy=100 r=50></circle>\n",
        "</svg>\n",
        "\n",
        "</body>\n",
        "</html>"
      ],
      "metadata": {
        "colab": {
          "base_uri": "https://localhost:8080/",
          "height": 269
        },
        "id": "itm9avyNi5Nj",
        "outputId": "0a77efc3-6c14-40d9-e39f-cc3891f368b1"
      },
      "execution_count": 9,
      "outputs": [
        {
          "output_type": "display_data",
          "data": {
            "text/plain": [
              "<IPython.core.display.HTML object>"
            ],
            "text/html": [
              "<!DOCTYPE html>\n",
              "<html lang=\"en\">\n",
              "<head>\n",
              "    <meta charset=\"UTF-8\">\n",
              "    <meta name=\"viewport\" content=\"width=device-width, initial-scale=1.0\">\n",
              "    <title>Data-Based D3.js Example</title>\n",
              "    <script src=\"https://d3js.org/d3.v5.min.js\"></script>\n",
              "</head>\n",
              "<body>\n",
              "\n",
              "    <h2>Event Handling in D3</h2>\n",
              "    <script>\n",
              "d3.select(\"#demoSelectOn\")\n",
              "    .select(\"#circleColorChangeD\")\n",
              "\t.on(\"mouseenter\", (d,i,n) => n[i].setAttribute(\"fill\", \"#000\"))\n",
              "    .on(\"mouseout\",   (d,i,n) => n[i].setAttribute(\"fill\", \"red\"));\n",
              "\n",
              "function randomColors() {\n",
              "        const letters = \"0123456789ABCDEF\";\n",
              "        let color = \"#\";\n",
              "        for (let i = 0; i < 6; i++) {\n",
              "          color += letters[Math.floor(Math.random() * 16)];\n",
              "        }\n",
              "        return color;\n",
              "      }\n",
              "</script>\n",
              "\n",
              "<svg id=\"demoSelectOn\" width=200px height=200px>\n",
              "    <circle id=\"circleColorChangeD\" cx=100 cy=100 r=50></circle>\n",
              "</svg>\n",
              "\n",
              "</body>\n",
              "</html>\n"
            ]
          },
          "metadata": {}
        }
      ]
    },
    {
      "cell_type": "code",
      "source": [
        "%%html\n",
        "<!DOCTYPE html>\n",
        "<html lang=\"en\">\n",
        "<head>\n",
        "    <meta charset=\"UTF-8\">\n",
        "    <meta name=\"viewport\" content=\"width=device-width, initial-scale=1.0\">\n",
        "    <title>Data-Based D3.js Example</title>\n",
        "    <script src=\"https://d3js.org/d3.v5.min.js\"></script>\n",
        "</head>\n",
        "<body>\n",
        "\n",
        "    <h2>Event Handling in D3</h2>\n",
        "    <script>\n",
        "\n",
        "\n",
        "d3.select(\"#demoMouseMove\")\n",
        "\t.on(\"mousemove\", function() {\n",
        "\t    let pos = d3.mouse(this);\n",
        "        d3.select(this)\n",
        "            .append(\"circle\")\n",
        "            .attr(\"fill\", () => randomColors())\n",
        "            .attr(\"r\", 1.5)\n",
        "            .attr(\"cx\", pos[0])\n",
        "            .attr(\"cy\", pos[1]);\n",
        "\t});\n",
        "\n",
        "    function randomColors() {\n",
        "        const letters = \"0123456789ABCDEF\";\n",
        "        let color = \"#\";\n",
        "        for (let i = 0; i < 6; i++) {\n",
        "          color += letters[Math.floor(Math.random() * 16)];\n",
        "        }\n",
        "        return color;\n",
        "      }\n",
        "\n",
        "    d3.select(\"button\").on(\"click\", () => {\n",
        "      d3.selectAll(\"circle\").remove();\n",
        "  });\n",
        "\n",
        "</script>\n",
        "\n",
        "<svg id=\"demoMouseMove\" width=400px height=300px>\n",
        "     <path d=\"M0,0 L400,0 L400,300 L0,300 Z\" stroke=\"black\" stroke-width=\"5px\" fill=\"none\"></path>\n",
        "</svg>\n",
        "<br />\n",
        "<button>Clear</button>\n",
        "\n",
        "\n",
        "</body>\n",
        "</html>\n"
      ],
      "metadata": {
        "colab": {
          "base_uri": "https://localhost:8080/",
          "height": 390
        },
        "id": "6cwtUohG6Kqm",
        "outputId": "ceb6357c-9726-4413-bfcd-b96e22a2a40b"
      },
      "execution_count": 10,
      "outputs": [
        {
          "output_type": "display_data",
          "data": {
            "text/plain": [
              "<IPython.core.display.HTML object>"
            ],
            "text/html": [
              "<!DOCTYPE html>\n",
              "<html lang=\"en\">\n",
              "<head>\n",
              "    <meta charset=\"UTF-8\">\n",
              "    <meta name=\"viewport\" content=\"width=device-width, initial-scale=1.0\">\n",
              "    <title>Data-Based D3.js Example</title>\n",
              "    <script src=\"https://d3js.org/d3.v5.min.js\"></script>\n",
              "</head>\n",
              "<body>\n",
              "\n",
              "    <h2>Event Handling in D3</h2>\n",
              "    <script>\n",
              "\n",
              "\n",
              "d3.select(\"#demoMouseMove\")\n",
              "\t.on(\"mousemove\", function() {\n",
              "\t    let pos = d3.mouse(this);\n",
              "        d3.select(this)\n",
              "            .append(\"circle\")\n",
              "            .attr(\"fill\", () => randomColors())\n",
              "            .attr(\"r\", 1.5)\n",
              "            .attr(\"cx\", pos[0])\n",
              "            .attr(\"cy\", pos[1]);\n",
              "\t});\n",
              "\n",
              "    function randomColors() {\n",
              "        const letters = \"0123456789ABCDEF\";\n",
              "        let color = \"#\";\n",
              "        for (let i = 0; i < 6; i++) {\n",
              "          color += letters[Math.floor(Math.random() * 16)];\n",
              "        }\n",
              "        return color;\n",
              "      }\n",
              "\n",
              "    d3.select(\"button\").on(\"click\", () => {\n",
              "      d3.selectAll(\"circle\").remove(); \n",
              "  });\n",
              "\n",
              "</script>\n",
              "\n",
              "<svg id=\"demoMouseMove\" width=400px height=300px>\n",
              "     <path d=\"M0,0 L400,0 L400,300 L0,300 Z\" stroke=\"black\" stroke-width=\"5px\" fill=\"none\"></path>\n",
              "</svg>\n",
              "<br />\n",
              "<button>Clear</button>\n",
              "\n",
              "\n",
              "</body>\n",
              "</html>\n"
            ]
          },
          "metadata": {}
        }
      ]
    }
  ]
}